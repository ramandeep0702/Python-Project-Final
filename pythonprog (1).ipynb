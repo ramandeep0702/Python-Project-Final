{
 "cells": [
  {
   "cell_type": "code",
   "execution_count": 32,
   "metadata": {
    "collapsed": true
   },
   "outputs": [],
   "source": [
    "############\n",
    "import pandas as pd\n",
    "import numpy as np"
   ]
  },
  {
   "cell_type": "code",
   "execution_count": 33,
   "metadata": {
    "collapsed": false
   },
   "outputs": [
    {
     "name": "stderr",
     "output_type": "stream",
     "text": [
      "C:\\Users\\samarth\\Anaconda3\\lib\\site-packages\\IPython\\core\\interactiveshell.py:2723: DtypeWarning: Columns (11) have mixed types. Specify dtype option on import or set low_memory=False.\n",
      "  interactivity=interactivity, compiler=compiler, result=result)\n"
     ]
    }
   ],
   "source": [
    "trainData = pd.read_csv('pvaBal35Trg.csv')"
   ]
  },
  {
   "cell_type": "code",
   "execution_count": 34,
   "metadata": {
    "collapsed": false
   },
   "outputs": [
    {
     "data": {
      "text/html": [
       "<div>\n",
       "<table border=\"1\" class=\"dataframe\">\n",
       "  <thead>\n",
       "    <tr style=\"text-align: right;\">\n",
       "      <th></th>\n",
       "      <th>ODATEDW</th>\n",
       "      <th>OSOURCE</th>\n",
       "      <th>TCODE</th>\n",
       "      <th>STATE</th>\n",
       "      <th>ZIP</th>\n",
       "      <th>MAILCODE</th>\n",
       "      <th>PVASTATE</th>\n",
       "      <th>DOB</th>\n",
       "      <th>NOEXCH</th>\n",
       "      <th>RECINHSE</th>\n",
       "      <th>...</th>\n",
       "      <th>HPHONE_D</th>\n",
       "      <th>RFA_2R</th>\n",
       "      <th>RFA_2F</th>\n",
       "      <th>RFA_2A</th>\n",
       "      <th>MDMAUD_R</th>\n",
       "      <th>MDMAUD_F</th>\n",
       "      <th>MDMAUD_A</th>\n",
       "      <th>CLUSTER2</th>\n",
       "      <th>GEOCODE2</th>\n",
       "      <th>TARGET_B</th>\n",
       "    </tr>\n",
       "  </thead>\n",
       "  <tbody>\n",
       "    <tr>\n",
       "      <th>0</th>\n",
       "      <td>8601</td>\n",
       "      <td>FRC</td>\n",
       "      <td>2</td>\n",
       "      <td>FL</td>\n",
       "      <td>34284</td>\n",
       "      <td>NaN</td>\n",
       "      <td>NaN</td>\n",
       "      <td>1505</td>\n",
       "      <td>0.0</td>\n",
       "      <td>X</td>\n",
       "      <td>...</td>\n",
       "      <td>0</td>\n",
       "      <td>L</td>\n",
       "      <td>1</td>\n",
       "      <td>G</td>\n",
       "      <td>X</td>\n",
       "      <td>X</td>\n",
       "      <td>X</td>\n",
       "      <td>13.0</td>\n",
       "      <td>B</td>\n",
       "      <td>0</td>\n",
       "    </tr>\n",
       "    <tr>\n",
       "      <th>1</th>\n",
       "      <td>9501</td>\n",
       "      <td>HHH</td>\n",
       "      <td>0</td>\n",
       "      <td>IA</td>\n",
       "      <td>51503</td>\n",
       "      <td>NaN</td>\n",
       "      <td>NaN</td>\n",
       "      <td>0</td>\n",
       "      <td>0.0</td>\n",
       "      <td>NaN</td>\n",
       "      <td>...</td>\n",
       "      <td>0</td>\n",
       "      <td>L</td>\n",
       "      <td>3</td>\n",
       "      <td>F</td>\n",
       "      <td>X</td>\n",
       "      <td>X</td>\n",
       "      <td>X</td>\n",
       "      <td>48.0</td>\n",
       "      <td>B</td>\n",
       "      <td>0</td>\n",
       "    </tr>\n",
       "    <tr>\n",
       "      <th>2</th>\n",
       "      <td>9401</td>\n",
       "      <td>L21</td>\n",
       "      <td>1</td>\n",
       "      <td>CA</td>\n",
       "      <td>96104</td>\n",
       "      <td>NaN</td>\n",
       "      <td>NaN</td>\n",
       "      <td>0</td>\n",
       "      <td>0.0</td>\n",
       "      <td>NaN</td>\n",
       "      <td>...</td>\n",
       "      <td>0</td>\n",
       "      <td>L</td>\n",
       "      <td>4</td>\n",
       "      <td>D</td>\n",
       "      <td>X</td>\n",
       "      <td>X</td>\n",
       "      <td>X</td>\n",
       "      <td>57.0</td>\n",
       "      <td>D</td>\n",
       "      <td>0</td>\n",
       "    </tr>\n",
       "    <tr>\n",
       "      <th>3</th>\n",
       "      <td>9301</td>\n",
       "      <td>BOA</td>\n",
       "      <td>1</td>\n",
       "      <td>CA</td>\n",
       "      <td>94707</td>\n",
       "      <td>NaN</td>\n",
       "      <td>NaN</td>\n",
       "      <td>4501</td>\n",
       "      <td>0.0</td>\n",
       "      <td>NaN</td>\n",
       "      <td>...</td>\n",
       "      <td>1</td>\n",
       "      <td>L</td>\n",
       "      <td>1</td>\n",
       "      <td>F</td>\n",
       "      <td>X</td>\n",
       "      <td>X</td>\n",
       "      <td>X</td>\n",
       "      <td>4.0</td>\n",
       "      <td>A</td>\n",
       "      <td>1</td>\n",
       "    </tr>\n",
       "    <tr>\n",
       "      <th>4</th>\n",
       "      <td>8601</td>\n",
       "      <td>AMB</td>\n",
       "      <td>2</td>\n",
       "      <td>CA</td>\n",
       "      <td>91301</td>\n",
       "      <td>NaN</td>\n",
       "      <td>NaN</td>\n",
       "      <td>6201</td>\n",
       "      <td>0.0</td>\n",
       "      <td>NaN</td>\n",
       "      <td>...</td>\n",
       "      <td>0</td>\n",
       "      <td>L</td>\n",
       "      <td>4</td>\n",
       "      <td>G</td>\n",
       "      <td>X</td>\n",
       "      <td>X</td>\n",
       "      <td>X</td>\n",
       "      <td>12.0</td>\n",
       "      <td>A</td>\n",
       "      <td>1</td>\n",
       "    </tr>\n",
       "  </tbody>\n",
       "</table>\n",
       "<p>5 rows × 481 columns</p>\n",
       "</div>"
      ],
      "text/plain": [
       "   ODATEDW OSOURCE  TCODE STATE    ZIP MAILCODE PVASTATE   DOB  NOEXCH  \\\n",
       "0     8601     FRC      2    FL  34284      NaN      NaN  1505     0.0   \n",
       "1     9501     HHH      0    IA  51503      NaN      NaN     0     0.0   \n",
       "2     9401     L21      1    CA  96104      NaN      NaN     0     0.0   \n",
       "3     9301     BOA      1    CA  94707      NaN      NaN  4501     0.0   \n",
       "4     8601     AMB      2    CA  91301      NaN      NaN  6201     0.0   \n",
       "\n",
       "  RECINHSE   ...    HPHONE_D RFA_2R RFA_2F RFA_2A MDMAUD_R  MDMAUD_F  \\\n",
       "0        X   ...           0      L      1      G        X         X   \n",
       "1      NaN   ...           0      L      3      F        X         X   \n",
       "2      NaN   ...           0      L      4      D        X         X   \n",
       "3      NaN   ...           1      L      1      F        X         X   \n",
       "4      NaN   ...           0      L      4      G        X         X   \n",
       "\n",
       "   MDMAUD_A CLUSTER2 GEOCODE2 TARGET_B  \n",
       "0         X     13.0        B        0  \n",
       "1         X     48.0        B        0  \n",
       "2         X     57.0        D        0  \n",
       "3         X      4.0        A        1  \n",
       "4         X     12.0        A        1  \n",
       "\n",
       "[5 rows x 481 columns]"
      ]
     },
     "execution_count": 34,
     "metadata": {},
     "output_type": "execute_result"
    }
   ],
   "source": [
    "trainData.head()"
   ]
  },
  {
   "cell_type": "code",
   "execution_count": 35,
   "metadata": {
    "collapsed": false
   },
   "outputs": [],
   "source": [
    "trainData['ZIP'] = trainData['ZIP'].abs()"
   ]
  },
  {
   "cell_type": "code",
   "execution_count": null,
   "metadata": {
    "collapsed": false
   },
   "outputs": [],
   "source": []
  },
  {
   "cell_type": "code",
   "execution_count": 36,
   "metadata": {
    "collapsed": false
   },
   "outputs": [
    {
     "name": "stdout",
     "output_type": "stream",
     "text": [
      "0\n"
     ]
    }
   ],
   "source": [
    "count = 0\n",
    "for z in trainData.ZIP:\n",
    "    if z < 0:\n",
    "        count = count + 1\n",
    "print (count)"
   ]
  },
  {
   "cell_type": "code",
   "execution_count": 37,
   "metadata": {
    "collapsed": false
   },
   "outputs": [
    {
     "data": {
      "text/plain": [
       "dtype('int64')"
      ]
     },
     "execution_count": 37,
     "metadata": {},
     "output_type": "execute_result"
    }
   ],
   "source": [
    "trainData['ZIP'].dtype"
   ]
  },
  {
   "cell_type": "code",
   "execution_count": 38,
   "metadata": {
    "collapsed": false
   },
   "outputs": [
    {
     "data": {
      "text/plain": [
       "3.4283999999999999"
      ]
     },
     "execution_count": 38,
     "metadata": {},
     "output_type": "execute_result"
    }
   ],
   "source": [
    "(trainData['ZIP'][0] /  10000)"
   ]
  },
  {
   "cell_type": "code",
   "execution_count": 39,
   "metadata": {
    "collapsed": false
   },
   "outputs": [],
   "source": [
    "trainData['ZIP1'] = (trainData['ZIP'] /  10000)"
   ]
  },
  {
   "cell_type": "code",
   "execution_count": 40,
   "metadata": {
    "collapsed": false
   },
   "outputs": [],
   "source": [
    "trainData['ZIP23'] = (trainData['ZIP'] %  10000) / 100"
   ]
  },
  {
   "cell_type": "code",
   "execution_count": 41,
   "metadata": {
    "collapsed": false
   },
   "outputs": [
    {
     "data": {
      "text/html": [
       "<div>\n",
       "<table border=\"1\" class=\"dataframe\">\n",
       "  <thead>\n",
       "    <tr style=\"text-align: right;\">\n",
       "      <th></th>\n",
       "      <th>ODATEDW</th>\n",
       "      <th>OSOURCE</th>\n",
       "      <th>TCODE</th>\n",
       "      <th>STATE</th>\n",
       "      <th>ZIP</th>\n",
       "      <th>MAILCODE</th>\n",
       "      <th>PVASTATE</th>\n",
       "      <th>DOB</th>\n",
       "      <th>NOEXCH</th>\n",
       "      <th>RECINHSE</th>\n",
       "      <th>...</th>\n",
       "      <th>RFA_2F</th>\n",
       "      <th>RFA_2A</th>\n",
       "      <th>MDMAUD_R</th>\n",
       "      <th>MDMAUD_F</th>\n",
       "      <th>MDMAUD_A</th>\n",
       "      <th>CLUSTER2</th>\n",
       "      <th>GEOCODE2</th>\n",
       "      <th>TARGET_B</th>\n",
       "      <th>ZIP1</th>\n",
       "      <th>ZIP23</th>\n",
       "    </tr>\n",
       "  </thead>\n",
       "  <tbody>\n",
       "    <tr>\n",
       "      <th>0</th>\n",
       "      <td>8601</td>\n",
       "      <td>FRC</td>\n",
       "      <td>2</td>\n",
       "      <td>FL</td>\n",
       "      <td>34284</td>\n",
       "      <td>NaN</td>\n",
       "      <td>NaN</td>\n",
       "      <td>1505</td>\n",
       "      <td>0.0</td>\n",
       "      <td>X</td>\n",
       "      <td>...</td>\n",
       "      <td>1</td>\n",
       "      <td>G</td>\n",
       "      <td>X</td>\n",
       "      <td>X</td>\n",
       "      <td>X</td>\n",
       "      <td>13.0</td>\n",
       "      <td>B</td>\n",
       "      <td>0</td>\n",
       "      <td>3.4284</td>\n",
       "      <td>42.84</td>\n",
       "    </tr>\n",
       "    <tr>\n",
       "      <th>1</th>\n",
       "      <td>9501</td>\n",
       "      <td>HHH</td>\n",
       "      <td>0</td>\n",
       "      <td>IA</td>\n",
       "      <td>51503</td>\n",
       "      <td>NaN</td>\n",
       "      <td>NaN</td>\n",
       "      <td>0</td>\n",
       "      <td>0.0</td>\n",
       "      <td>NaN</td>\n",
       "      <td>...</td>\n",
       "      <td>3</td>\n",
       "      <td>F</td>\n",
       "      <td>X</td>\n",
       "      <td>X</td>\n",
       "      <td>X</td>\n",
       "      <td>48.0</td>\n",
       "      <td>B</td>\n",
       "      <td>0</td>\n",
       "      <td>5.1503</td>\n",
       "      <td>15.03</td>\n",
       "    </tr>\n",
       "    <tr>\n",
       "      <th>2</th>\n",
       "      <td>9401</td>\n",
       "      <td>L21</td>\n",
       "      <td>1</td>\n",
       "      <td>CA</td>\n",
       "      <td>96104</td>\n",
       "      <td>NaN</td>\n",
       "      <td>NaN</td>\n",
       "      <td>0</td>\n",
       "      <td>0.0</td>\n",
       "      <td>NaN</td>\n",
       "      <td>...</td>\n",
       "      <td>4</td>\n",
       "      <td>D</td>\n",
       "      <td>X</td>\n",
       "      <td>X</td>\n",
       "      <td>X</td>\n",
       "      <td>57.0</td>\n",
       "      <td>D</td>\n",
       "      <td>0</td>\n",
       "      <td>9.6104</td>\n",
       "      <td>61.04</td>\n",
       "    </tr>\n",
       "    <tr>\n",
       "      <th>3</th>\n",
       "      <td>9301</td>\n",
       "      <td>BOA</td>\n",
       "      <td>1</td>\n",
       "      <td>CA</td>\n",
       "      <td>94707</td>\n",
       "      <td>NaN</td>\n",
       "      <td>NaN</td>\n",
       "      <td>4501</td>\n",
       "      <td>0.0</td>\n",
       "      <td>NaN</td>\n",
       "      <td>...</td>\n",
       "      <td>1</td>\n",
       "      <td>F</td>\n",
       "      <td>X</td>\n",
       "      <td>X</td>\n",
       "      <td>X</td>\n",
       "      <td>4.0</td>\n",
       "      <td>A</td>\n",
       "      <td>1</td>\n",
       "      <td>9.4707</td>\n",
       "      <td>47.07</td>\n",
       "    </tr>\n",
       "    <tr>\n",
       "      <th>4</th>\n",
       "      <td>8601</td>\n",
       "      <td>AMB</td>\n",
       "      <td>2</td>\n",
       "      <td>CA</td>\n",
       "      <td>91301</td>\n",
       "      <td>NaN</td>\n",
       "      <td>NaN</td>\n",
       "      <td>6201</td>\n",
       "      <td>0.0</td>\n",
       "      <td>NaN</td>\n",
       "      <td>...</td>\n",
       "      <td>4</td>\n",
       "      <td>G</td>\n",
       "      <td>X</td>\n",
       "      <td>X</td>\n",
       "      <td>X</td>\n",
       "      <td>12.0</td>\n",
       "      <td>A</td>\n",
       "      <td>1</td>\n",
       "      <td>9.1301</td>\n",
       "      <td>13.01</td>\n",
       "    </tr>\n",
       "  </tbody>\n",
       "</table>\n",
       "<p>5 rows × 483 columns</p>\n",
       "</div>"
      ],
      "text/plain": [
       "   ODATEDW OSOURCE  TCODE STATE    ZIP MAILCODE PVASTATE   DOB  NOEXCH  \\\n",
       "0     8601     FRC      2    FL  34284      NaN      NaN  1505     0.0   \n",
       "1     9501     HHH      0    IA  51503      NaN      NaN     0     0.0   \n",
       "2     9401     L21      1    CA  96104      NaN      NaN     0     0.0   \n",
       "3     9301     BOA      1    CA  94707      NaN      NaN  4501     0.0   \n",
       "4     8601     AMB      2    CA  91301      NaN      NaN  6201     0.0   \n",
       "\n",
       "  RECINHSE  ...   RFA_2F RFA_2A MDMAUD_R MDMAUD_F MDMAUD_A  CLUSTER2  \\\n",
       "0        X  ...        1      G        X        X        X      13.0   \n",
       "1      NaN  ...        3      F        X        X        X      48.0   \n",
       "2      NaN  ...        4      D        X        X        X      57.0   \n",
       "3      NaN  ...        1      F        X        X        X       4.0   \n",
       "4      NaN  ...        4      G        X        X        X      12.0   \n",
       "\n",
       "   GEOCODE2 TARGET_B    ZIP1  ZIP23  \n",
       "0         B        0  3.4284  42.84  \n",
       "1         B        0  5.1503  15.03  \n",
       "2         D        0  9.6104  61.04  \n",
       "3         A        1  9.4707  47.07  \n",
       "4         A        1  9.1301  13.01  \n",
       "\n",
       "[5 rows x 483 columns]"
      ]
     },
     "execution_count": 41,
     "metadata": {},
     "output_type": "execute_result"
    }
   ],
   "source": [
    "trainData.head()"
   ]
  },
  {
   "cell_type": "code",
   "execution_count": null,
   "metadata": {
    "collapsed": false
   },
   "outputs": [],
   "source": []
  },
  {
   "cell_type": "code",
   "execution_count": 42,
   "metadata": {
    "collapsed": false
   },
   "outputs": [],
   "source": [
    "trainData['ZIP1'] = trainData['ZIP1'].apply(np.floor)"
   ]
  },
  {
   "cell_type": "code",
   "execution_count": 43,
   "metadata": {
    "collapsed": false
   },
   "outputs": [],
   "source": [
    "trainData['ZIP23'] = trainData['ZIP23'].apply(np.floor)"
   ]
  },
  {
   "cell_type": "code",
   "execution_count": 44,
   "metadata": {
    "collapsed": false
   },
   "outputs": [],
   "source": [
    "trainData['ZIP1'] = trainData['ZIP1'].apply(int)\n",
    "trainData['ZIP23'] = trainData['ZIP23'].apply(int)\n"
   ]
  },
  {
   "cell_type": "code",
   "execution_count": 45,
   "metadata": {
    "collapsed": false
   },
   "outputs": [],
   "source": [
    "trainData['DOMAIN'].fillna('U4',inplace=True)"
   ]
  },
  {
   "cell_type": "code",
   "execution_count": 46,
   "metadata": {
    "collapsed": false
   },
   "outputs": [
    {
     "data": {
      "text/plain": [
       "0       C2\n",
       "1       C3\n",
       "2       R2\n",
       "3       U1\n",
       "4       C1\n",
       "5       U4\n",
       "6       S1\n",
       "7       C1\n",
       "8       C1\n",
       "9       U3\n",
       "10      T2\n",
       "11      R1\n",
       "12      U1\n",
       "13      C1\n",
       "14      S1\n",
       "15      C1\n",
       "16      U1\n",
       "17      R3\n",
       "18      S3\n",
       "19      T2\n",
       "20      S2\n",
       "21      S1\n",
       "22      S1\n",
       "23      T2\n",
       "24      T2\n",
       "25      R3\n",
       "26      T2\n",
       "27      U1\n",
       "28      C1\n",
       "29      T2\n",
       "        ..\n",
       "9969    R3\n",
       "9970    T1\n",
       "9971    C2\n",
       "9972    S1\n",
       "9973    U3\n",
       "9974    R2\n",
       "9975    R2\n",
       "9976    S2\n",
       "9977    S1\n",
       "9978    T3\n",
       "9979    U4\n",
       "9980    R2\n",
       "9981    T2\n",
       "9982    R2\n",
       "9983    U4\n",
       "9984    R2\n",
       "9985    R2\n",
       "9986    T2\n",
       "9987    R2\n",
       "9988    C3\n",
       "9989    S2\n",
       "9990    R2\n",
       "9991    T1\n",
       "9992    R2\n",
       "9993    C1\n",
       "9994    C1\n",
       "9995    T1\n",
       "9996    T2\n",
       "9997    C1\n",
       "9998    S1\n",
       "Name: DOMAIN, dtype: object"
      ]
     },
     "execution_count": 46,
     "metadata": {},
     "output_type": "execute_result"
    }
   ],
   "source": [
    "trainData.DOMAIN"
   ]
  },
  {
   "cell_type": "code",
   "execution_count": 47,
   "metadata": {
    "collapsed": false
   },
   "outputs": [
    {
     "name": "stdout",
     "output_type": "stream",
     "text": [
      "ODATEDW     9999\n",
      "OSOURCE     9877\n",
      "TCODE       9999\n",
      "STATE       9999\n",
      "ZIP         9999\n",
      "MAILCODE     142\n",
      "PVASTATE     152\n",
      "DOB         9999\n",
      "NOEXCH      9993\n",
      "RECINHSE     767\n",
      "RECP3        271\n",
      "RECPGVG       16\n",
      "RECSWEEP     173\n",
      "MDMAUD      9979\n",
      "DOMAIN      9999\n",
      "CLUSTER     9772\n",
      "AGE         7522\n",
      "AGEFLAG     6906\n",
      "HOMEOWNR    7598\n",
      "CHILD03      115\n",
      "CHILD07      113\n",
      "CHILD12      159\n",
      "CHILD18      253\n",
      "NUMCHLD     1263\n",
      "INCOME      7730\n",
      "GENDER      9700\n",
      "WEALTH1     5336\n",
      "HIT         9999\n",
      "MBCRAFT     4516\n",
      "MBGARDEN    4516\n",
      "            ... \n",
      "RAMNT_22    2253\n",
      "RAMNT_23     870\n",
      "RAMNT_24    1988\n",
      "RAMNTALL    9999\n",
      "NGIFTALL    9999\n",
      "CARDGIFT    9999\n",
      "MINRAMNT    9999\n",
      "MINRDATE    9999\n",
      "MAXRAMNT    9999\n",
      "MAXRDATE    9999\n",
      "LASTGIFT    9999\n",
      "LASTDATE    9999\n",
      "FISTDATE    9999\n",
      "NEXTDATE    9072\n",
      "TIMELAG     9072\n",
      "AVGGIFT     9999\n",
      "CONTROLN    9999\n",
      "TARGET_D    9999\n",
      "HPHONE_D    9999\n",
      "RFA_2R      9999\n",
      "RFA_2F      9999\n",
      "RFA_2A      9999\n",
      "MDMAUD_R    9982\n",
      "MDMAUD_F    9988\n",
      "MDMAUD_A    9996\n",
      "CLUSTER2    9989\n",
      "GEOCODE2    9973\n",
      "TARGET_B    9999\n",
      "ZIP1        9999\n",
      "ZIP23       9999\n",
      "dtype: int64\n",
      "(9999, 483)\n"
     ]
    }
   ],
   "source": [
    "print (trainData.count())  #### returns non null values of each column\n",
    "print (trainData.shape)"
   ]
  },
  {
   "cell_type": "code",
   "execution_count": 48,
   "metadata": {
    "collapsed": true
   },
   "outputs": [],
   "source": [
    "trainData.fillna(0,inplace=True)"
   ]
  },
  {
   "cell_type": "code",
   "execution_count": 49,
   "metadata": {
    "collapsed": false
   },
   "outputs": [
    {
     "name": "stdout",
     "output_type": "stream",
     "text": [
      "ODATEDW     9999\n",
      "OSOURCE     9999\n",
      "TCODE       9999\n",
      "STATE       9999\n",
      "ZIP         9999\n",
      "MAILCODE    9999\n",
      "PVASTATE    9999\n",
      "DOB         9999\n",
      "NOEXCH      9999\n",
      "RECINHSE    9999\n",
      "RECP3       9999\n",
      "RECPGVG     9999\n",
      "RECSWEEP    9999\n",
      "MDMAUD      9999\n",
      "DOMAIN      9999\n",
      "CLUSTER     9999\n",
      "AGE         9999\n",
      "AGEFLAG     9999\n",
      "HOMEOWNR    9999\n",
      "CHILD03     9999\n",
      "CHILD07     9999\n",
      "CHILD12     9999\n",
      "CHILD18     9999\n",
      "NUMCHLD     9999\n",
      "INCOME      9999\n",
      "GENDER      9999\n",
      "WEALTH1     9999\n",
      "HIT         9999\n",
      "MBCRAFT     9999\n",
      "MBGARDEN    9999\n",
      "            ... \n",
      "RAMNT_22    9999\n",
      "RAMNT_23    9999\n",
      "RAMNT_24    9999\n",
      "RAMNTALL    9999\n",
      "NGIFTALL    9999\n",
      "CARDGIFT    9999\n",
      "MINRAMNT    9999\n",
      "MINRDATE    9999\n",
      "MAXRAMNT    9999\n",
      "MAXRDATE    9999\n",
      "LASTGIFT    9999\n",
      "LASTDATE    9999\n",
      "FISTDATE    9999\n",
      "NEXTDATE    9999\n",
      "TIMELAG     9999\n",
      "AVGGIFT     9999\n",
      "CONTROLN    9999\n",
      "TARGET_D    9999\n",
      "HPHONE_D    9999\n",
      "RFA_2R      9999\n",
      "RFA_2F      9999\n",
      "RFA_2A      9999\n",
      "MDMAUD_R    9999\n",
      "MDMAUD_F    9999\n",
      "MDMAUD_A    9999\n",
      "CLUSTER2    9999\n",
      "GEOCODE2    9999\n",
      "TARGET_B    9999\n",
      "ZIP1        9999\n",
      "ZIP23       9999\n",
      "dtype: int64\n"
     ]
    }
   ],
   "source": [
    "print (trainData.count()) "
   ]
  },
  {
   "cell_type": "code",
   "execution_count": 50,
   "metadata": {
    "collapsed": false
   },
   "outputs": [],
   "source": [
    "del trainData['ZIP']"
   ]
  },
  {
   "cell_type": "code",
   "execution_count": 51,
   "metadata": {
    "collapsed": false
   },
   "outputs": [
    {
     "data": {
      "text/html": [
       "<div>\n",
       "<table border=\"1\" class=\"dataframe\">\n",
       "  <thead>\n",
       "    <tr style=\"text-align: right;\">\n",
       "      <th></th>\n",
       "      <th>ODATEDW</th>\n",
       "      <th>OSOURCE</th>\n",
       "      <th>TCODE</th>\n",
       "      <th>STATE</th>\n",
       "      <th>MAILCODE</th>\n",
       "      <th>PVASTATE</th>\n",
       "      <th>DOB</th>\n",
       "      <th>NOEXCH</th>\n",
       "      <th>RECINHSE</th>\n",
       "      <th>RECP3</th>\n",
       "      <th>...</th>\n",
       "      <th>RFA_2F</th>\n",
       "      <th>RFA_2A</th>\n",
       "      <th>MDMAUD_R</th>\n",
       "      <th>MDMAUD_F</th>\n",
       "      <th>MDMAUD_A</th>\n",
       "      <th>CLUSTER2</th>\n",
       "      <th>GEOCODE2</th>\n",
       "      <th>TARGET_B</th>\n",
       "      <th>ZIP1</th>\n",
       "      <th>ZIP23</th>\n",
       "    </tr>\n",
       "  </thead>\n",
       "  <tbody>\n",
       "    <tr>\n",
       "      <th>0</th>\n",
       "      <td>8601</td>\n",
       "      <td>FRC</td>\n",
       "      <td>2</td>\n",
       "      <td>FL</td>\n",
       "      <td>0</td>\n",
       "      <td>0</td>\n",
       "      <td>1505</td>\n",
       "      <td>0.0</td>\n",
       "      <td>X</td>\n",
       "      <td>0</td>\n",
       "      <td>...</td>\n",
       "      <td>1</td>\n",
       "      <td>G</td>\n",
       "      <td>X</td>\n",
       "      <td>X</td>\n",
       "      <td>X</td>\n",
       "      <td>13.0</td>\n",
       "      <td>B</td>\n",
       "      <td>0</td>\n",
       "      <td>3</td>\n",
       "      <td>42</td>\n",
       "    </tr>\n",
       "    <tr>\n",
       "      <th>1</th>\n",
       "      <td>9501</td>\n",
       "      <td>HHH</td>\n",
       "      <td>0</td>\n",
       "      <td>IA</td>\n",
       "      <td>0</td>\n",
       "      <td>0</td>\n",
       "      <td>0</td>\n",
       "      <td>0.0</td>\n",
       "      <td>0</td>\n",
       "      <td>0</td>\n",
       "      <td>...</td>\n",
       "      <td>3</td>\n",
       "      <td>F</td>\n",
       "      <td>X</td>\n",
       "      <td>X</td>\n",
       "      <td>X</td>\n",
       "      <td>48.0</td>\n",
       "      <td>B</td>\n",
       "      <td>0</td>\n",
       "      <td>5</td>\n",
       "      <td>15</td>\n",
       "    </tr>\n",
       "    <tr>\n",
       "      <th>2</th>\n",
       "      <td>9401</td>\n",
       "      <td>L21</td>\n",
       "      <td>1</td>\n",
       "      <td>CA</td>\n",
       "      <td>0</td>\n",
       "      <td>0</td>\n",
       "      <td>0</td>\n",
       "      <td>0.0</td>\n",
       "      <td>0</td>\n",
       "      <td>0</td>\n",
       "      <td>...</td>\n",
       "      <td>4</td>\n",
       "      <td>D</td>\n",
       "      <td>X</td>\n",
       "      <td>X</td>\n",
       "      <td>X</td>\n",
       "      <td>57.0</td>\n",
       "      <td>D</td>\n",
       "      <td>0</td>\n",
       "      <td>9</td>\n",
       "      <td>61</td>\n",
       "    </tr>\n",
       "    <tr>\n",
       "      <th>3</th>\n",
       "      <td>9301</td>\n",
       "      <td>BOA</td>\n",
       "      <td>1</td>\n",
       "      <td>CA</td>\n",
       "      <td>0</td>\n",
       "      <td>0</td>\n",
       "      <td>4501</td>\n",
       "      <td>0.0</td>\n",
       "      <td>0</td>\n",
       "      <td>0</td>\n",
       "      <td>...</td>\n",
       "      <td>1</td>\n",
       "      <td>F</td>\n",
       "      <td>X</td>\n",
       "      <td>X</td>\n",
       "      <td>X</td>\n",
       "      <td>4.0</td>\n",
       "      <td>A</td>\n",
       "      <td>1</td>\n",
       "      <td>9</td>\n",
       "      <td>47</td>\n",
       "    </tr>\n",
       "    <tr>\n",
       "      <th>4</th>\n",
       "      <td>8601</td>\n",
       "      <td>AMB</td>\n",
       "      <td>2</td>\n",
       "      <td>CA</td>\n",
       "      <td>0</td>\n",
       "      <td>0</td>\n",
       "      <td>6201</td>\n",
       "      <td>0.0</td>\n",
       "      <td>0</td>\n",
       "      <td>0</td>\n",
       "      <td>...</td>\n",
       "      <td>4</td>\n",
       "      <td>G</td>\n",
       "      <td>X</td>\n",
       "      <td>X</td>\n",
       "      <td>X</td>\n",
       "      <td>12.0</td>\n",
       "      <td>A</td>\n",
       "      <td>1</td>\n",
       "      <td>9</td>\n",
       "      <td>13</td>\n",
       "    </tr>\n",
       "  </tbody>\n",
       "</table>\n",
       "<p>5 rows × 482 columns</p>\n",
       "</div>"
      ],
      "text/plain": [
       "   ODATEDW OSOURCE  TCODE STATE MAILCODE PVASTATE   DOB  NOEXCH RECINHSE  \\\n",
       "0     8601     FRC      2    FL        0        0  1505     0.0        X   \n",
       "1     9501     HHH      0    IA        0        0     0     0.0        0   \n",
       "2     9401     L21      1    CA        0        0     0     0.0        0   \n",
       "3     9301     BOA      1    CA        0        0  4501     0.0        0   \n",
       "4     8601     AMB      2    CA        0        0  6201     0.0        0   \n",
       "\n",
       "  RECP3  ...  RFA_2F RFA_2A MDMAUD_R MDMAUD_F  MDMAUD_A  CLUSTER2 GEOCODE2  \\\n",
       "0     0  ...       1      G        X        X         X      13.0        B   \n",
       "1     0  ...       3      F        X        X         X      48.0        B   \n",
       "2     0  ...       4      D        X        X         X      57.0        D   \n",
       "3     0  ...       1      F        X        X         X       4.0        A   \n",
       "4     0  ...       4      G        X        X         X      12.0        A   \n",
       "\n",
       "  TARGET_B ZIP1 ZIP23  \n",
       "0        0    3    42  \n",
       "1        0    5    15  \n",
       "2        0    9    61  \n",
       "3        1    9    47  \n",
       "4        1    9    13  \n",
       "\n",
       "[5 rows x 482 columns]"
      ]
     },
     "execution_count": 51,
     "metadata": {},
     "output_type": "execute_result"
    }
   ],
   "source": [
    "trainData.head()"
   ]
  },
  {
   "cell_type": "code",
   "execution_count": 52,
   "metadata": {
    "collapsed": false
   },
   "outputs": [
    {
     "name": "stdout",
     "output_type": "stream",
     "text": [
      "<class 'pandas.core.frame.DataFrame'>\n"
     ]
    }
   ],
   "source": [
    "print (type(trainData))"
   ]
  },
  {
   "cell_type": "code",
   "execution_count": 53,
   "metadata": {
    "collapsed": false
   },
   "outputs": [
    {
     "data": {
      "text/plain": [
       "array([0, 'F', 'M', 'U', 'J', 'A'], dtype=object)"
      ]
     },
     "execution_count": 53,
     "metadata": {},
     "output_type": "execute_result"
    }
   ],
   "source": [
    "trainData.GENDER.unique()"
   ]
  },
  {
   "cell_type": "code",
   "execution_count": 54,
   "metadata": {
    "collapsed": false
   },
   "outputs": [],
   "source": [
    "trainData.ix[trainData.GENDER == 0, 'GENDER'] = 'U'"
   ]
  },
  {
   "cell_type": "code",
   "execution_count": 55,
   "metadata": {
    "collapsed": false
   },
   "outputs": [
    {
     "data": {
      "text/plain": [
       "array(['U', 'F', 'M', 'J', 'A'], dtype=object)"
      ]
     },
     "execution_count": 55,
     "metadata": {},
     "output_type": "execute_result"
    }
   ],
   "source": [
    "trainData.GENDER.unique()"
   ]
  },
  {
   "cell_type": "code",
   "execution_count": 56,
   "metadata": {
    "collapsed": false
   },
   "outputs": [
    {
     "data": {
      "text/html": [
       "<div>\n",
       "<table border=\"1\" class=\"dataframe\">\n",
       "  <thead>\n",
       "    <tr style=\"text-align: right;\">\n",
       "      <th></th>\n",
       "      <th>ODATEDW</th>\n",
       "      <th>OSOURCE</th>\n",
       "      <th>TCODE</th>\n",
       "      <th>STATE</th>\n",
       "      <th>MAILCODE</th>\n",
       "      <th>PVASTATE</th>\n",
       "      <th>DOB</th>\n",
       "      <th>NOEXCH</th>\n",
       "      <th>RECINHSE</th>\n",
       "      <th>RECP3</th>\n",
       "      <th>...</th>\n",
       "      <th>RFA_2F</th>\n",
       "      <th>RFA_2A</th>\n",
       "      <th>MDMAUD_R</th>\n",
       "      <th>MDMAUD_F</th>\n",
       "      <th>MDMAUD_A</th>\n",
       "      <th>CLUSTER2</th>\n",
       "      <th>GEOCODE2</th>\n",
       "      <th>TARGET_B</th>\n",
       "      <th>ZIP1</th>\n",
       "      <th>ZIP23</th>\n",
       "    </tr>\n",
       "  </thead>\n",
       "  <tbody>\n",
       "    <tr>\n",
       "      <th>0</th>\n",
       "      <td>8601</td>\n",
       "      <td>FRC</td>\n",
       "      <td>2</td>\n",
       "      <td>FL</td>\n",
       "      <td>0</td>\n",
       "      <td>0</td>\n",
       "      <td>1505</td>\n",
       "      <td>0.0</td>\n",
       "      <td>X</td>\n",
       "      <td>0</td>\n",
       "      <td>...</td>\n",
       "      <td>1</td>\n",
       "      <td>G</td>\n",
       "      <td>X</td>\n",
       "      <td>X</td>\n",
       "      <td>X</td>\n",
       "      <td>13.0</td>\n",
       "      <td>B</td>\n",
       "      <td>0</td>\n",
       "      <td>3</td>\n",
       "      <td>42</td>\n",
       "    </tr>\n",
       "    <tr>\n",
       "      <th>1</th>\n",
       "      <td>9501</td>\n",
       "      <td>HHH</td>\n",
       "      <td>0</td>\n",
       "      <td>IA</td>\n",
       "      <td>0</td>\n",
       "      <td>0</td>\n",
       "      <td>0</td>\n",
       "      <td>0.0</td>\n",
       "      <td>0</td>\n",
       "      <td>0</td>\n",
       "      <td>...</td>\n",
       "      <td>3</td>\n",
       "      <td>F</td>\n",
       "      <td>X</td>\n",
       "      <td>X</td>\n",
       "      <td>X</td>\n",
       "      <td>48.0</td>\n",
       "      <td>B</td>\n",
       "      <td>0</td>\n",
       "      <td>5</td>\n",
       "      <td>15</td>\n",
       "    </tr>\n",
       "    <tr>\n",
       "      <th>2</th>\n",
       "      <td>9401</td>\n",
       "      <td>L21</td>\n",
       "      <td>1</td>\n",
       "      <td>CA</td>\n",
       "      <td>0</td>\n",
       "      <td>0</td>\n",
       "      <td>0</td>\n",
       "      <td>0.0</td>\n",
       "      <td>0</td>\n",
       "      <td>0</td>\n",
       "      <td>...</td>\n",
       "      <td>4</td>\n",
       "      <td>D</td>\n",
       "      <td>X</td>\n",
       "      <td>X</td>\n",
       "      <td>X</td>\n",
       "      <td>57.0</td>\n",
       "      <td>D</td>\n",
       "      <td>0</td>\n",
       "      <td>9</td>\n",
       "      <td>61</td>\n",
       "    </tr>\n",
       "    <tr>\n",
       "      <th>3</th>\n",
       "      <td>9301</td>\n",
       "      <td>BOA</td>\n",
       "      <td>1</td>\n",
       "      <td>CA</td>\n",
       "      <td>0</td>\n",
       "      <td>0</td>\n",
       "      <td>4501</td>\n",
       "      <td>0.0</td>\n",
       "      <td>0</td>\n",
       "      <td>0</td>\n",
       "      <td>...</td>\n",
       "      <td>1</td>\n",
       "      <td>F</td>\n",
       "      <td>X</td>\n",
       "      <td>X</td>\n",
       "      <td>X</td>\n",
       "      <td>4.0</td>\n",
       "      <td>A</td>\n",
       "      <td>1</td>\n",
       "      <td>9</td>\n",
       "      <td>47</td>\n",
       "    </tr>\n",
       "    <tr>\n",
       "      <th>4</th>\n",
       "      <td>8601</td>\n",
       "      <td>AMB</td>\n",
       "      <td>2</td>\n",
       "      <td>CA</td>\n",
       "      <td>0</td>\n",
       "      <td>0</td>\n",
       "      <td>6201</td>\n",
       "      <td>0.0</td>\n",
       "      <td>0</td>\n",
       "      <td>0</td>\n",
       "      <td>...</td>\n",
       "      <td>4</td>\n",
       "      <td>G</td>\n",
       "      <td>X</td>\n",
       "      <td>X</td>\n",
       "      <td>X</td>\n",
       "      <td>12.0</td>\n",
       "      <td>A</td>\n",
       "      <td>1</td>\n",
       "      <td>9</td>\n",
       "      <td>13</td>\n",
       "    </tr>\n",
       "  </tbody>\n",
       "</table>\n",
       "<p>5 rows × 482 columns</p>\n",
       "</div>"
      ],
      "text/plain": [
       "   ODATEDW OSOURCE  TCODE STATE MAILCODE PVASTATE   DOB  NOEXCH RECINHSE  \\\n",
       "0     8601     FRC      2    FL        0        0  1505     0.0        X   \n",
       "1     9501     HHH      0    IA        0        0     0     0.0        0   \n",
       "2     9401     L21      1    CA        0        0     0     0.0        0   \n",
       "3     9301     BOA      1    CA        0        0  4501     0.0        0   \n",
       "4     8601     AMB      2    CA        0        0  6201     0.0        0   \n",
       "\n",
       "  RECP3  ...  RFA_2F RFA_2A MDMAUD_R MDMAUD_F  MDMAUD_A  CLUSTER2 GEOCODE2  \\\n",
       "0     0  ...       1      G        X        X         X      13.0        B   \n",
       "1     0  ...       3      F        X        X         X      48.0        B   \n",
       "2     0  ...       4      D        X        X         X      57.0        D   \n",
       "3     0  ...       1      F        X        X         X       4.0        A   \n",
       "4     0  ...       4      G        X        X         X      12.0        A   \n",
       "\n",
       "  TARGET_B ZIP1 ZIP23  \n",
       "0        0    3    42  \n",
       "1        0    5    15  \n",
       "2        0    9    61  \n",
       "3        1    9    47  \n",
       "4        1    9    13  \n",
       "\n",
       "[5 rows x 482 columns]"
      ]
     },
     "execution_count": 56,
     "metadata": {},
     "output_type": "execute_result"
    }
   ],
   "source": [
    "trainData.head()"
   ]
  },
  {
   "cell_type": "code",
   "execution_count": 57,
   "metadata": {
    "collapsed": false
   },
   "outputs": [
    {
     "data": {
      "text/plain": [
       "array([0, 'X'], dtype=object)"
      ]
     },
     "execution_count": 57,
     "metadata": {},
     "output_type": "execute_result"
    }
   ],
   "source": [
    "trainData.MAJOR.unique()"
   ]
  },
  {
   "cell_type": "code",
   "execution_count": 58,
   "metadata": {
    "collapsed": true
   },
   "outputs": [],
   "source": [
    "trainData.ix[trainData.MAJOR == 'X', 'MAJOR'] = 1"
   ]
  },
  {
   "cell_type": "code",
   "execution_count": 59,
   "metadata": {
    "collapsed": false
   },
   "outputs": [
    {
     "data": {
      "text/plain": [
       "array([0, 1], dtype=object)"
      ]
     },
     "execution_count": 59,
     "metadata": {},
     "output_type": "execute_result"
    }
   ],
   "source": [
    "trainData.MAJOR.unique()"
   ]
  },
  {
   "cell_type": "code",
   "execution_count": 60,
   "metadata": {
    "collapsed": false
   },
   "outputs": [
    {
     "data": {
      "text/plain": [
       "array(['XXXX', 0, 'C1CM'], dtype=object)"
      ]
     },
     "execution_count": 60,
     "metadata": {},
     "output_type": "execute_result"
    }
   ],
   "source": [
    "trainData.MDMAUD.unique()"
   ]
  },
  {
   "cell_type": "code",
   "execution_count": 61,
   "metadata": {
    "collapsed": true
   },
   "outputs": [],
   "source": [
    "trainData.ix[trainData.MDMAUD == 'XXXX', 'MDMAUD'] = 0\n",
    "trainData.ix[trainData.MDMAUD == 'C1CM', 'MDMAUD'] = 1"
   ]
  },
  {
   "cell_type": "code",
   "execution_count": 62,
   "metadata": {
    "collapsed": false
   },
   "outputs": [
    {
     "data": {
      "text/plain": [
       "array([0, 1], dtype=object)"
      ]
     },
     "execution_count": 62,
     "metadata": {},
     "output_type": "execute_result"
    }
   ],
   "source": [
    "trainData.MDMAUD.unique()"
   ]
  },
  {
   "cell_type": "code",
   "execution_count": 63,
   "metadata": {
    "collapsed": true
   },
   "outputs": [],
   "source": [
    "trainData = trainData.drop(['ODATEDW','OSOURCE','TCODE','NOEXCH','AGEFLAG','DATASRCE','SOLP3','SOLIH','GEOCODE','COLLECT1'],axis = 1)"
   ]
  },
  {
   "cell_type": "code",
   "execution_count": 64,
   "metadata": {
    "collapsed": false
   },
   "outputs": [],
   "source": [
    "trainData = trainData.drop(['BIBLE', 'CATLG', 'HOMEE', 'PETS', 'CDPLAY', 'STEREO', \n",
    "                            'PCOWNERS', 'PHOTO', 'CRAFTS', 'FISHER', 'GARDENIN', 'BOATS', 'WALKER', \n",
    "                            'KIDSTUFF', 'CARDS', 'PLATES', 'LIFESRC'],axis = 1)"
   ]
  },
  {
   "cell_type": "code",
   "execution_count": 65,
   "metadata": {
    "collapsed": true
   },
   "outputs": [],
   "source": [
    "trainData = trainData.drop(['CARDPROM', 'MINRAMNT', 'MINRDATE' , 'MAXRDATE', 'LASTGIFT', 'LASTDATE', 'FISTDATE', \n",
    "                            'NEXTDATE', 'TIMELAG', 'CONTROLN', 'HPHONE_D', 'MDMAUD_R', 'MDMAUD_F', 'MDMAUD_A', \n",
    "                            'CLUSTER2', 'GEOCODE2' , 'PVASTATE' , 'RECINHSE' , 'RECP3' , 'RECPGVG', \n",
    "                            'RECSWEEP' , 'CLUSTER' , 'HIT' , 'PEPSTRFL' , 'AFC1', 'AFC1' , 'NUMPRM12' \n",
    "                            , 'NGIFTALL' , 'CARDGIFT'],axis = 1)"
   ]
  },
  {
   "cell_type": "code",
   "execution_count": 66,
   "metadata": {
    "collapsed": false
   },
   "outputs": [],
   "source": [
    "trainData = trainData.drop(['AGE901','AGE902','AGE903','AGE904','AGE905','AGE906','AGE907', 'CHIL1','CHIL2' ,'CHIL3',\n",
    "                            'AGEC1','AGEC2','AGEC3', 'AGEC4', 'AGEC5', 'AGEC6', 'AGEC7', 'CHILC1','CHILC2',\n",
    "                            'CHILC3','CHILC4','CHILC5', 'HHAGE1','HHAGE2','HHAGE3', 'HHN1','HHN2','HHN3','HHN4','HHN5',\n",
    "                            'HHN6', 'MARR1','MARR2','MARR3','MARR4', 'HHP1', 'HHP2', 'DW1','DW2','DW3','DW4','DW5',\n",
    "                            'DW6','DW7','DW8','DW9','HU1','HU2','HU3','HU4','HU5', 'HHD1','HHD2','HHD3','HHD4','HHD5',\n",
    "                            'HHD6','HHD7','HHD8','HHD9','HHD10','HHD11','HHD12', 'ETHC1','ETHC2','ETHC3','ETHC4','ETHC5',\n",
    "                            'ETHC6','HVP1','HVP2','HVP3','HVP4','HVP5','HVP6','HUR1', 'HUR2', \n",
    "                            'RHP1','RHP2','RHP3'],axis = 1)"
   ]
  },
  {
   "cell_type": "code",
   "execution_count": 67,
   "metadata": {
    "collapsed": false
   },
   "outputs": [
    {
     "data": {
      "text/html": [
       "<div>\n",
       "<table border=\"1\" class=\"dataframe\">\n",
       "  <thead>\n",
       "    <tr style=\"text-align: right;\">\n",
       "      <th></th>\n",
       "      <th>STATE</th>\n",
       "      <th>MAILCODE</th>\n",
       "      <th>DOB</th>\n",
       "      <th>MDMAUD</th>\n",
       "      <th>DOMAIN</th>\n",
       "      <th>AGE</th>\n",
       "      <th>HOMEOWNR</th>\n",
       "      <th>CHILD03</th>\n",
       "      <th>CHILD07</th>\n",
       "      <th>CHILD12</th>\n",
       "      <th>...</th>\n",
       "      <th>RAMNTALL</th>\n",
       "      <th>MAXRAMNT</th>\n",
       "      <th>AVGGIFT</th>\n",
       "      <th>TARGET_D</th>\n",
       "      <th>RFA_2R</th>\n",
       "      <th>RFA_2F</th>\n",
       "      <th>RFA_2A</th>\n",
       "      <th>TARGET_B</th>\n",
       "      <th>ZIP1</th>\n",
       "      <th>ZIP23</th>\n",
       "    </tr>\n",
       "  </thead>\n",
       "  <tbody>\n",
       "    <tr>\n",
       "      <th>0</th>\n",
       "      <td>FL</td>\n",
       "      <td>0</td>\n",
       "      <td>1505</td>\n",
       "      <td>0</td>\n",
       "      <td>C2</td>\n",
       "      <td>83.0</td>\n",
       "      <td>0</td>\n",
       "      <td>0</td>\n",
       "      <td>0</td>\n",
       "      <td>0</td>\n",
       "      <td>...</td>\n",
       "      <td>1422.00</td>\n",
       "      <td>100.0</td>\n",
       "      <td>33.857143</td>\n",
       "      <td>0.0</td>\n",
       "      <td>L</td>\n",
       "      <td>1</td>\n",
       "      <td>G</td>\n",
       "      <td>0</td>\n",
       "      <td>3</td>\n",
       "      <td>42</td>\n",
       "    </tr>\n",
       "    <tr>\n",
       "      <th>1</th>\n",
       "      <td>IA</td>\n",
       "      <td>0</td>\n",
       "      <td>0</td>\n",
       "      <td>0</td>\n",
       "      <td>C3</td>\n",
       "      <td>0.0</td>\n",
       "      <td>U</td>\n",
       "      <td>0</td>\n",
       "      <td>0</td>\n",
       "      <td>0</td>\n",
       "      <td>...</td>\n",
       "      <td>40.00</td>\n",
       "      <td>15.0</td>\n",
       "      <td>10.000000</td>\n",
       "      <td>0.0</td>\n",
       "      <td>L</td>\n",
       "      <td>3</td>\n",
       "      <td>F</td>\n",
       "      <td>0</td>\n",
       "      <td>5</td>\n",
       "      <td>15</td>\n",
       "    </tr>\n",
       "    <tr>\n",
       "      <th>2</th>\n",
       "      <td>CA</td>\n",
       "      <td>0</td>\n",
       "      <td>0</td>\n",
       "      <td>0</td>\n",
       "      <td>R2</td>\n",
       "      <td>0.0</td>\n",
       "      <td>H</td>\n",
       "      <td>0</td>\n",
       "      <td>0</td>\n",
       "      <td>0</td>\n",
       "      <td>...</td>\n",
       "      <td>62.00</td>\n",
       "      <td>9.0</td>\n",
       "      <td>7.750000</td>\n",
       "      <td>0.0</td>\n",
       "      <td>L</td>\n",
       "      <td>4</td>\n",
       "      <td>D</td>\n",
       "      <td>0</td>\n",
       "      <td>9</td>\n",
       "      <td>61</td>\n",
       "    </tr>\n",
       "    <tr>\n",
       "      <th>3</th>\n",
       "      <td>CA</td>\n",
       "      <td>0</td>\n",
       "      <td>4501</td>\n",
       "      <td>0</td>\n",
       "      <td>U1</td>\n",
       "      <td>53.0</td>\n",
       "      <td>H</td>\n",
       "      <td>0</td>\n",
       "      <td>0</td>\n",
       "      <td>0</td>\n",
       "      <td>...</td>\n",
       "      <td>41.00</td>\n",
       "      <td>20.0</td>\n",
       "      <td>13.666667</td>\n",
       "      <td>20.0</td>\n",
       "      <td>L</td>\n",
       "      <td>1</td>\n",
       "      <td>F</td>\n",
       "      <td>1</td>\n",
       "      <td>9</td>\n",
       "      <td>47</td>\n",
       "    </tr>\n",
       "    <tr>\n",
       "      <th>4</th>\n",
       "      <td>CA</td>\n",
       "      <td>0</td>\n",
       "      <td>6201</td>\n",
       "      <td>0</td>\n",
       "      <td>C1</td>\n",
       "      <td>36.0</td>\n",
       "      <td>H</td>\n",
       "      <td>0</td>\n",
       "      <td>0</td>\n",
       "      <td>0</td>\n",
       "      <td>...</td>\n",
       "      <td>311.07</td>\n",
       "      <td>60.0</td>\n",
       "      <td>8.887714</td>\n",
       "      <td>11.0</td>\n",
       "      <td>L</td>\n",
       "      <td>4</td>\n",
       "      <td>G</td>\n",
       "      <td>1</td>\n",
       "      <td>9</td>\n",
       "      <td>13</td>\n",
       "    </tr>\n",
       "  </tbody>\n",
       "</table>\n",
       "<p>5 rows × 347 columns</p>\n",
       "</div>"
      ],
      "text/plain": [
       "  STATE MAILCODE   DOB MDMAUD DOMAIN   AGE HOMEOWNR CHILD03 CHILD07 CHILD12  \\\n",
       "0    FL        0  1505      0     C2  83.0        0       0       0       0   \n",
       "1    IA        0     0      0     C3   0.0        U       0       0       0   \n",
       "2    CA        0     0      0     R2   0.0        H       0       0       0   \n",
       "3    CA        0  4501      0     U1  53.0        H       0       0       0   \n",
       "4    CA        0  6201      0     C1  36.0        H       0       0       0   \n",
       "\n",
       "   ...   RAMNTALL  MAXRAMNT    AVGGIFT TARGET_D  RFA_2R  RFA_2F  RFA_2A  \\\n",
       "0  ...    1422.00     100.0  33.857143      0.0       L       1       G   \n",
       "1  ...      40.00      15.0  10.000000      0.0       L       3       F   \n",
       "2  ...      62.00       9.0   7.750000      0.0       L       4       D   \n",
       "3  ...      41.00      20.0  13.666667     20.0       L       1       F   \n",
       "4  ...     311.07      60.0   8.887714     11.0       L       4       G   \n",
       "\n",
       "   TARGET_B  ZIP1  ZIP23  \n",
       "0         0     3     42  \n",
       "1         0     5     15  \n",
       "2         0     9     61  \n",
       "3         1     9     47  \n",
       "4         1     9     13  \n",
       "\n",
       "[5 rows x 347 columns]"
      ]
     },
     "execution_count": 67,
     "metadata": {},
     "output_type": "execute_result"
    }
   ],
   "source": [
    "trainData.head()"
   ]
  },
  {
   "cell_type": "code",
   "execution_count": 68,
   "metadata": {
    "collapsed": false
   },
   "outputs": [
    {
     "data": {
      "text/plain": [
       "(9999, 347)"
      ]
     },
     "execution_count": 68,
     "metadata": {},
     "output_type": "execute_result"
    }
   ],
   "source": [
    "trainData.shape"
   ]
  },
  {
   "cell_type": "code",
   "execution_count": 69,
   "metadata": {
    "collapsed": false
   },
   "outputs": [
    {
     "data": {
      "text/plain": [
       "DOB         0.005962\n",
       "AGE         0.035548\n",
       "NUMCHLD    -0.025793\n",
       "INCOME      0.021444\n",
       "WEALTH1     0.011282\n",
       "MBCRAFT     0.017879\n",
       "MBGARDEN    0.006004\n",
       "MBBOOKS     0.003872\n",
       "MBCOLECT    0.000701\n",
       "MAGFAML     0.004496\n",
       "MAGFEM      0.001825\n",
       "MAGMALE     0.006063\n",
       "PUBGARDN   -0.000187\n",
       "PUBCULIN   -0.003114\n",
       "PUBHLTH     0.022179\n",
       "PUBDOITY   -0.003611\n",
       "PUBNEWFN    0.007843\n",
       "PUBPHOTO   -0.004589\n",
       "PUBOPP      0.006539\n",
       "MALEMILI   -0.005648\n",
       "MALEVET     0.022506\n",
       "VIETVETS   -0.030419\n",
       "WWIIVETS    0.030363\n",
       "LOCALGOV   -0.012199\n",
       "STATEGOV    0.007095\n",
       "FEDGOV     -0.015706\n",
       "WEALTH2     0.044130\n",
       "POP901     -0.012083\n",
       "POP902     -0.010521\n",
       "POP903     -0.008046\n",
       "              ...   \n",
       "RAMNT_3     0.027665\n",
       "RAMNT_4     0.013552\n",
       "RAMNT_5    -0.000467\n",
       "RAMNT_6     0.012985\n",
       "RAMNT_7    -0.018004\n",
       "RAMNT_8     0.031656\n",
       "RAMNT_9     0.003837\n",
       "RAMNT_10   -0.024234\n",
       "RAMNT_11   -0.006142\n",
       "RAMNT_12   -0.007466\n",
       "RAMNT_13    0.023834\n",
       "RAMNT_14    0.031918\n",
       "RAMNT_15    0.029682\n",
       "RAMNT_16   -0.027612\n",
       "RAMNT_17   -0.006438\n",
       "RAMNT_18    0.028367\n",
       "RAMNT_19    0.009425\n",
       "RAMNT_20   -0.010854\n",
       "RAMNT_21   -0.026018\n",
       "RAMNT_22    0.023871\n",
       "RAMNT_23    0.016663\n",
       "RAMNT_24    0.014229\n",
       "RAMNTALL    0.039337\n",
       "MAXRAMNT   -0.050819\n",
       "AVGGIFT    -0.080449\n",
       "TARGET_D    0.721327\n",
       "RFA_2F      0.152638\n",
       "TARGET_B    1.000000\n",
       "ZIP1        0.043356\n",
       "ZIP23       0.000092\n",
       "Name: TARGET_B, dtype: float64"
      ]
     },
     "execution_count": 69,
     "metadata": {},
     "output_type": "execute_result"
    }
   ],
   "source": [
    "trainData.corr()['TARGET_B']"
   ]
  },
  {
   "cell_type": "code",
   "execution_count": null,
   "metadata": {
    "collapsed": false
   },
   "outputs": [],
   "source": []
  },
  {
   "cell_type": "code",
   "execution_count": 70,
   "metadata": {
    "collapsed": false
   },
   "outputs": [
    {
     "name": "stdout",
     "output_type": "stream",
     "text": [
      "      ETH1  ETH2  ETH3  ETH4  ETH5  ETH6  ETH7  ETH8  ETH9  ETH10  ...    \\\n",
      "0        0     0     0     0     0     0     0     0     0      0  ...     \n",
      "1       97     1     1     0     4     0     0     0     0      0  ...     \n",
      "2       92     0     4     0     8     0     0     0     0      0  ...     \n",
      "3       85     3     0    11     4     0     5     4     1      0  ...     \n",
      "4       89     2     0     8     4     1     1     3     0      2  ...     \n",
      "5       96     1     0     2     1     0     0     0     0      0  ...     \n",
      "6       93     4     0     2     2     1     0     0     0      1  ...     \n",
      "7       88     2     1     2    16     0     1     0     0      0  ...     \n",
      "8       86    10     0     3     1     2     0     1     0      1  ...     \n",
      "9       63     1     0     7    74     0     1     2     1      1  ...     \n",
      "10      94     2     0     2     5     0     0     1     0      0  ...     \n",
      "11      80    19     0     1     1     0     0     0     0      0  ...     \n",
      "12      97     0     0     2     2     0     1     0     0      0  ...     \n",
      "13      64     5     0     5    56     0     0     0     1      0  ...     \n",
      "14      85     4     0     9     5     5     0     1     2      2  ...     \n",
      "15      88     2     0    10     2     2     3     2     0      1  ...     \n",
      "16      88     1     1     8     9     0     1     3     2      0  ...     \n",
      "17      72    27     1     0     0     0     0     0     0      0  ...     \n",
      "18      99     0     0     0     0     0     0     0     0      0  ...     \n",
      "19      91     1     1     2    15     0     0     0     1      0  ...     \n",
      "20      95     1     2     1     1     0     0     0     0      0  ...     \n",
      "21      67    17     0     2    26     1     0     0     0      0  ...     \n",
      "22      93     3     0     3     1     1     0     1     0      0  ...     \n",
      "23      98     0     1     1     2     0     0     0     0      0  ...     \n",
      "24      98     0     1     1     1     0     0     0     0      0  ...     \n",
      "25      77    23     0     0     1     0     0     0     0      0  ...     \n",
      "26      98     0     1     1     3     0     0     0     0      0  ...     \n",
      "27      91     5     0     2     7     1     0     1     0      0  ...     \n",
      "28      95     1     1     3     2     0     1     1     0      0  ...     \n",
      "29      75    24     0     0     1     0     0     0     0      0  ...     \n",
      "...    ...   ...   ...   ...   ...   ...   ...   ...   ...    ...  ...     \n",
      "9969    78    21     0     0     0     0     0     0     0      0  ...     \n",
      "9970    95     1     0     2     4     0     1     0     0      0  ...     \n",
      "9971    83    16     0     1     1     0     0     0     0      0  ...     \n",
      "9972    95     2     0     3     1     0     1     0     0      1  ...     \n",
      "9973    72     0     1     2    35     0     0     0     2      0  ...     \n",
      "9974    86     0     0     0    22     0     0     0     0      0  ...     \n",
      "9975    98     0     0     2     3     1     0     1     0      0  ...     \n",
      "9976    89     5     1     2     8     0     0     1     1      0  ...     \n",
      "9977    94     2     0     2     6     0     1     1     1      0  ...     \n",
      "9978    99     0     0     0     3     0     0     0     0      0  ...     \n",
      "9979    97     0     0     0     5     0     0     0     0      0  ...     \n",
      "9980    96     3     0     0     1     0     0     0     0      0  ...     \n",
      "9981    96     0     2     1     5     0     0     0     0      0  ...     \n",
      "9982    99     0     1     0     0     0     0     0     0      0  ...     \n",
      "9983    12    87     1     0     0     0     0     0     0      0  ...     \n",
      "9984    98     0     1     1     4     0     0     0     0      0  ...     \n",
      "9985    97     3     0     0     0     0     0     0     0      0  ...     \n",
      "9986    79    20     0     0     2     0     0     0     0      0  ...     \n",
      "9987    93     6     0     0     0     0     0     0     0      0  ...     \n",
      "9988    58     2     0     1    82     0     0     0     1      0  ...     \n",
      "9989    94     0     1     1    10     0     0     0     1      0  ...     \n",
      "9990    96     2     0     1     1     0     0     0     0      0  ...     \n",
      "9991    97     1     0     1     1     0     0     0     0      0  ...     \n",
      "9992    87     4     9     0     2     0     0     0     0      0  ...     \n",
      "9993    98     0     1     1     3     1     0     0     0      0  ...     \n",
      "9994    95     2     0     2     4     1     0     0     0      0  ...     \n",
      "9995    95     4     0     1     1     0     0     0     0      0  ...     \n",
      "9996    92     1     3     1     6     0     0     0     0      0  ...     \n",
      "9997    55    30     0    11     7     5     0     3     0      1  ...     \n",
      "9998    99     0     0     0     1     0     0     0     0      0  ...     \n",
      "\n",
      "      EIC7  EIC8  EIC9  EIC10  EIC11  EIC12  EIC13  EIC14  EIC15  EIC16  \n",
      "0        0     0     0      0      0      0      0      0      0      0  \n",
      "1        0    19     9      4      5      2      7      5      7      0  \n",
      "2        3    14     4      3      3      1      7      8      5      5  \n",
      "3        0    20     4      7      3      0      9     20     23      0  \n",
      "4        5    13    16      7      2      4      8      6     11      3  \n",
      "5        8    13     9     10      4      2      8      6      8      5  \n",
      "6        2    25    14      0      2      0      6      8      7      7  \n",
      "7        4    15    12      6      6      0     13      9     13      8  \n",
      "8        2    20     3      3      3      0      9     12      6     10  \n",
      "9        7    18     4     10      2      2      7      6      4      5  \n",
      "10       0    24    14      5      4      0     18      4     14      4  \n",
      "11       6    16     8      4      2      1      8      8      7      5  \n",
      "12       7    12     9      4      3      0      8      6      7      2  \n",
      "13       5    21     9      7      5      5      4      6      6      1  \n",
      "14       5    16    14     11      1      3      4      6      3      3  \n",
      "15       3     8     7      1      1      1      9     45      6      1  \n",
      "16       3    11    29      4      8      2      6      9      4      4  \n",
      "17       2    17     2      5      4      0      5      5      2      1  \n",
      "18       0     0     0      0      0      0      0      0      0      0  \n",
      "19       6    10     4      4      0      0      7      6      4      3  \n",
      "20       6    18     8      6      3      2     10      7      7      4  \n",
      "21      15    14    11      0      0      0     14      0      9      3  \n",
      "22       3    10     8      2      3      2     10     23      9     12  \n",
      "23       3    21     6      4      3      1     10      7      5      4  \n",
      "24       2    17     5      6      0      1     12      1      6      7  \n",
      "25       4    20     3      3      3      1      7     12      4      5  \n",
      "26       7    11    12      6      0      1      9     11      7      7  \n",
      "27       5    16    11      5      4      2     10     10      5      5  \n",
      "28       3    18     6      4      3      2      9     18     11      4  \n",
      "29       2    14     2      3      2      1      4     12      3      3  \n",
      "...    ...   ...   ...    ...    ...    ...    ...    ...    ...    ...  \n",
      "9969     2    17     5      5      1      0     11      9      4      2  \n",
      "9970     8    15    10      8      1      1      6      6      9      5  \n",
      "9971     3    22     8      3      4      2      7     13      4      3  \n",
      "9972     4    10     0     11      0      2      3      6      5      0  \n",
      "9973     4    14     8      8      1      0      8      6      4      0  \n",
      "9974     5    21     6      2      7      1      8      7      4      3  \n",
      "9975     0    10     0      3      4      0     17      3      4      6  \n",
      "9976     5    13     9      9     11     10      4      3      6      7  \n",
      "9977     5    12     8      2      1      1     16     12     15      4  \n",
      "9978     2     8     2     13      3      2     19      9      6      0  \n",
      "9979     4    15     0      0      3      0     15     26      4      7  \n",
      "9980     5    14     9      6      2      0     19     10     11      0  \n",
      "9981     9    18     9      7      4      0      5      8      4      9  \n",
      "9982     3    18     3      3      3      1      8      9      4      5  \n",
      "9983     3    18     8      6      0      3      5      6      7      3  \n",
      "9984     5    13     5      3      1      0      6      5     16      0  \n",
      "9985     3    21     4      4      3      1     11     15      4      6  \n",
      "9986     3    24     5      3      3      0     13      9      5      3  \n",
      "9987     2     8     6      2      0      0      9      3      5     10  \n",
      "9988     7    20     7      2      5      0      5     11      3      9  \n",
      "9989     5    16     5      8      2      1      5      8      6     10  \n",
      "9990     5    21     3      3      3      2      7     15      5      1  \n",
      "9991    13    18    17      4      3      1      8      6      7      4  \n",
      "9992     7    15     4      7      2      1      9      7      2      5  \n",
      "9993     0    26     3      4      5      0      7     10      9      8  \n",
      "9994     7    14     6      5      2      2     10      7     11      3  \n",
      "9995     4    23     5      3      3      0      5      6      9      1  \n",
      "9996     4    24     5      3      4      1     11      6      6      8  \n",
      "9997     5    28     7      7      7      1      8      3      6      3  \n",
      "9998     9    16     8      0      3      1      9     14     11      9  \n",
      "\n",
      "[9999 rows x 32 columns]\n"
     ]
    }
   ],
   "source": [
    "\n",
    "\n",
    "good_columns = trainData[['ETH1','ETH2','ETH3','ETH4','ETH5','ETH6','ETH7','ETH8',\n",
    "                         'ETH9','ETH10','ETH11','ETH12','ETH13','ETH14','ETH15','ETH16','EIC1','EIC2','EIC3',\n",
    "                         'EIC4','EIC5','EIC6','EIC7','EIC8','EIC9','EIC10','EIC11',\n",
    "                         'EIC12','EIC13','EIC14','EIC15','EIC16']]\n",
    "\n",
    "trainData = trainData.drop(['ETH1','ETH2','ETH3','ETH4','ETH5','ETH6','ETH7','ETH8',\n",
    "                         'ETH9','ETH10','ETH11','ETH12','ETH13','ETH14','ETH15','ETH16','EIC1','EIC2','EIC3',\n",
    "                         'EIC4','EIC5','EIC6','EIC7','EIC8','EIC9','EIC10','EIC11',\n",
    "                         'EIC12','EIC13','EIC14','EIC15','EIC16'],axis = 1)\n",
    "\n",
    "print (good_columns)"
   ]
  },
  {
   "cell_type": "code",
   "execution_count": 71,
   "metadata": {
    "collapsed": false
   },
   "outputs": [
    {
     "data": {
      "text/plain": [
       "(9999, 315)"
      ]
     },
     "execution_count": 71,
     "metadata": {},
     "output_type": "execute_result"
    }
   ],
   "source": [
    "trainData.shape"
   ]
  },
  {
   "cell_type": "code",
   "execution_count": 72,
   "metadata": {
    "collapsed": true
   },
   "outputs": [],
   "source": [
    "# Import the PCA model.\n",
    "from sklearn.decomposition import PCA\n",
    "\n",
    "# Create a PCA model.\n",
    "pca_4 = PCA(n_components=4)\n",
    "# Fit the PCA model on the numeric columns from earlier.\n",
    "after_pca = pca_4.fit(good_columns)\n"
   ]
  },
  {
   "cell_type": "code",
   "execution_count": 73,
   "metadata": {
    "collapsed": false
   },
   "outputs": [
    {
     "name": "stdout",
     "output_type": "stream",
     "text": [
      "[ 0.42756916  0.20657251  0.07981853  0.06240213]\n",
      "[[  8.05123600e-01  -5.27202172e-01  -9.88645306e-03  -8.05761078e-02\n",
      "   -1.95977759e-01  -2.08914517e-03  -1.54743584e-02  -1.82209522e-02\n",
      "   -2.08823007e-02  -5.81691547e-03  -5.05608475e-03  -6.73161448e-03\n",
      "   -1.52637254e-01  -6.90704897e-03  -5.02069318e-03  -3.19378296e-02\n",
      "    1.04679770e-02   3.85566270e-03   1.38585229e-02   1.80349207e-02\n",
      "   -1.03464445e-02   1.87057907e-03   1.06139085e-02   2.29547431e-02\n",
      "    2.64643148e-02  -6.04539225e-03  -2.05619157e-02   3.52342519e-03\n",
      "    1.82761305e-03   2.63455655e-03   2.10895592e-02  -1.75953385e-02]\n",
      " [  2.76720158e-02  -4.02523895e-01   4.57472026e-03   7.72599036e-02\n",
      "    7.06909643e-01   2.20985633e-03   9.46954742e-03   1.63626215e-02\n",
      "    2.39701811e-02   5.77231600e-03   7.00067865e-03   1.79102379e-03\n",
      "    5.57166573e-01   1.12668736e-02   3.78410855e-02   1.02056190e-01\n",
      "    4.19079310e-02   5.87695186e-03   1.90945003e-02  -5.14139348e-02\n",
      "    6.44442920e-04  -1.08121115e-03   1.55369020e-02   1.77865198e-02\n",
      "    7.14491125e-04   2.14225662e-02   9.22884596e-03   9.35107583e-03\n",
      "   -3.92389192e-02  -2.29094553e-02  -3.12208796e-03  -1.29848308e-03]\n",
      " [ -1.38163613e-01  -1.99797232e-01   2.11243399e-02   2.28591777e-01\n",
      "   -9.40907592e-02   6.34922804e-03   6.05351348e-02   5.88768656e-02\n",
      "    4.11208314e-02   1.52125842e-02   3.19951479e-03   2.72753055e-02\n",
      "   -1.34608175e-01   4.98773153e-03   3.77272301e-03   3.20691175e-02\n",
      "   -2.66460504e-02   2.18338862e-02  -1.69820857e-02  -8.79897647e-01\n",
      "   -5.56168997e-04   1.33643978e-02   2.46895894e-03   4.10847375e-02\n",
      "    1.57581405e-01   3.26458977e-02   5.19563994e-02   4.37434594e-02\n",
      "    6.41353368e-02   1.01015955e-01   1.46222409e-01   8.14034344e-02]\n",
      " [  3.44599479e-01   5.06460859e-01  -3.70566340e-02  -5.69702801e-01\n",
      "    1.97206466e-01  -1.78092059e-02  -1.34442630e-01  -1.44849247e-01\n",
      "   -1.16313529e-01  -4.19337710e-02  -2.64280143e-02  -5.75139795e-02\n",
      "    1.51386910e-01   4.84092778e-04   4.25630481e-02   2.70868687e-03\n",
      "    7.13217947e-02   2.55934217e-02   5.22971644e-02  -3.54216944e-01\n",
      "    1.00622284e-02   2.17113281e-02  -4.60893009e-03   1.37511572e-01\n",
      "    8.42563656e-03   1.48344970e-02   3.23835103e-02   8.32864922e-03\n",
      "    7.30821832e-02   1.11218728e-01   1.53153605e-02   6.09560100e-02]]\n",
      "4\n"
     ]
    }
   ],
   "source": [
    "print (after_pca.explained_variance_ratio_)\n",
    "print (after_pca.components_)\n",
    "print (after_pca.n_components)"
   ]
  },
  {
   "cell_type": "code",
   "execution_count": 74,
   "metadata": {
    "collapsed": true
   },
   "outputs": [],
   "source": [
    "after_pca_transform = after_pca.transform(good_columns)"
   ]
  },
  {
   "cell_type": "code",
   "execution_count": 75,
   "metadata": {
    "collapsed": false
   },
   "outputs": [
    {
     "data": {
      "text/plain": [
       "array([[-63.39991296,  -7.47374972,  23.73671361, -32.36096893],\n",
       "       [ 14.09249547,  -1.49843459, -12.52047647,  -3.20604328],\n",
       "       [  8.88827853,   5.51390276,   5.56112883,   5.24225985],\n",
       "       ..., \n",
       "       [  9.05594854,   1.36629868,   1.55122962,   1.94428865],\n",
       "       [-36.71782886, -10.79000023,   8.10766846,  -1.14269931],\n",
       "       [ 17.05214162,  -4.53217088,   7.57371684,   4.10103073]])"
      ]
     },
     "execution_count": 75,
     "metadata": {},
     "output_type": "execute_result"
    }
   ],
   "source": [
    "after_pca_transform"
   ]
  },
  {
   "cell_type": "code",
   "execution_count": 76,
   "metadata": {
    "collapsed": false
   },
   "outputs": [
    {
     "data": {
      "text/plain": [
       "(9999, 4)"
      ]
     },
     "execution_count": 76,
     "metadata": {},
     "output_type": "execute_result"
    }
   ],
   "source": [
    "after_pca_transform.shape"
   ]
  },
  {
   "cell_type": "code",
   "execution_count": 77,
   "metadata": {
    "collapsed": false
   },
   "outputs": [],
   "source": [
    "pca_columns = ['pca1','pca2','pca3','pca4']\n",
    "df2 = pd.DataFrame(data=after_pca_transform, columns=pca_columns)"
   ]
  },
  {
   "cell_type": "code",
   "execution_count": 78,
   "metadata": {
    "collapsed": false
   },
   "outputs": [],
   "source": [
    "newTrain = trainData.merge(df2,how='inner', left_index=True, right_index=True)"
   ]
  },
  {
   "cell_type": "code",
   "execution_count": 79,
   "metadata": {
    "collapsed": false
   },
   "outputs": [
    {
     "name": "stdout",
     "output_type": "stream",
     "text": [
      "  STATE MAILCODE   DOB MDMAUD DOMAIN   AGE HOMEOWNR CHILD03 CHILD07 CHILD12  \\\n",
      "0    FL        0  1505      0     C2  83.0        0       0       0       0   \n",
      "1    IA        0     0      0     C3   0.0        U       0       0       0   \n",
      "2    CA        0     0      0     R2   0.0        H       0       0       0   \n",
      "3    CA        0  4501      0     U1  53.0        H       0       0       0   \n",
      "4    CA        0  6201      0     C1  36.0        H       0       0       0   \n",
      "\n",
      "     ...     RFA_2R  RFA_2F  RFA_2A TARGET_B  ZIP1  ZIP23       pca1  \\\n",
      "0    ...          L       1       G        0     3     42 -63.399913   \n",
      "1    ...          L       3       F        0     5     15  14.092495   \n",
      "2    ...          L       4       D        0     9     61   8.888279   \n",
      "3    ...          L       1       F        1     9     47   2.333558   \n",
      "4    ...          L       4       G        1     9     13   6.547728   \n",
      "\n",
      "       pca2       pca3       pca4  \n",
      "0 -7.473750  23.736714 -32.360969  \n",
      "1 -1.498435 -12.520476  -3.206043  \n",
      "2  5.513903   5.561129   5.242260  \n",
      "3 -1.310165  15.264777  -3.856945  \n",
      "4 -1.611965   7.629917  -5.392445  \n",
      "\n",
      "[5 rows x 319 columns]\n"
     ]
    }
   ],
   "source": [
    "print (newTrain.head())"
   ]
  },
  {
   "cell_type": "code",
   "execution_count": 80,
   "metadata": {
    "collapsed": false
   },
   "outputs": [],
   "source": [
    "import matplotlib.pyplot as plt\n",
    "%matplotlib inline  "
   ]
  },
  {
   "cell_type": "code",
   "execution_count": 81,
   "metadata": {
    "collapsed": false
   },
   "outputs": [
    {
     "data": {
      "text/plain": [
       "[<matplotlib.lines.Line2D at 0x26eeb6c8e48>]"
      ]
     },
     "execution_count": 81,
     "metadata": {},
     "output_type": "execute_result"
    },
    {
     "data": {
      "image/png": "[encoded data removed]",
      "text/plain": [
       "<matplotlib.figure.Figure at 0x26ee8d2e400>"
      ]
     },
     "metadata": {},
     "output_type": "display_data"
    }
   ],
   "source": [
    "plt.plot(trainData.AGE)\n"
   ]
  },
  {
   "cell_type": "code",
   "execution_count": 82,
   "metadata": {
    "collapsed": false
   },
   "outputs": [
    {
     "data": {
      "text/plain": [
       "<matplotlib.collections.PathCollection at 0x26eec010978>"
      ]
     },
     "execution_count": 82,
     "metadata": {},
     "output_type": "execute_result"
    },
    {
     "data": {
      "image/png": "[encoded data removed]",
      "text/plain": [
       "<matplotlib.figure.Figure at 0x26eeb6ef6a0>"
      ]
     },
     "metadata": {},
     "output_type": "display_data"
    }
   ],
   "source": [
    "plt.scatter(trainData.AGE,trainData.TARGET_B)"
   ]
  },
  {
   "cell_type": "code",
   "execution_count": 83,
   "metadata": {
    "collapsed": false
   },
   "outputs": [],
   "source": [
    "trainData['GENDER'] = trainData['GENDER'].astype(str)"
   ]
  },
  {
   "cell_type": "code",
   "execution_count": 88,
   "metadata": {
    "collapsed": false
   },
   "outputs": [],
   "source": [
    "xvalues = trainData['GENDER'].unique()"
   ]
  },
  {
   "cell_type": "code",
   "execution_count": 89,
   "metadata": {
    "collapsed": false
   },
   "outputs": [],
   "source": [
    "import seaborn as sns"
   ]
  },
  {
   "cell_type": "code",
   "execution_count": 90,
   "metadata": {
    "collapsed": false
   },
   "outputs": [
    {
     "data": {
      "text/plain": [
       "<matplotlib.axes._subplots.AxesSubplot at 0x26eed660a20>"
      ]
     },
     "execution_count": 90,
     "metadata": {},
     "output_type": "execute_result"
    },
    {
     "data": {
      "image/png": "[encoded data removed]",
      "text/plain": [
       "<matplotlib.figure.Figure at 0x26eed6600b8>"
      ]
     },
     "metadata": {},
     "output_type": "display_data"
    }
   ],
   "source": [
    "sns.countplot(x=trainData['GENDER'],data=trainData)"
   ]
  },
  {
   "cell_type": "code",
   "execution_count": 93,
   "metadata": {
    "collapsed": false
   },
   "outputs": [
    {
     "data": {
      "text/html": [
       "<div>\n",
       "<table border=\"1\" class=\"dataframe\">\n",
       "  <thead>\n",
       "    <tr style=\"text-align: right;\">\n",
       "      <th></th>\n",
       "      <th>STATE</th>\n",
       "      <th>MAILCODE</th>\n",
       "      <th>DOB</th>\n",
       "      <th>MDMAUD</th>\n",
       "      <th>DOMAIN</th>\n",
       "      <th>AGE</th>\n",
       "      <th>HOMEOWNR</th>\n",
       "      <th>CHILD03</th>\n",
       "      <th>CHILD07</th>\n",
       "      <th>CHILD12</th>\n",
       "      <th>...</th>\n",
       "      <th>RFA_2R</th>\n",
       "      <th>RFA_2F</th>\n",
       "      <th>RFA_2A</th>\n",
       "      <th>TARGET_B</th>\n",
       "      <th>ZIP1</th>\n",
       "      <th>ZIP23</th>\n",
       "      <th>pca1</th>\n",
       "      <th>pca2</th>\n",
       "      <th>pca3</th>\n",
       "      <th>pca4</th>\n",
       "    </tr>\n",
       "  </thead>\n",
       "  <tbody>\n",
       "    <tr>\n",
       "      <th>0</th>\n",
       "      <td>FL</td>\n",
       "      <td>0</td>\n",
       "      <td>1505</td>\n",
       "      <td>0</td>\n",
       "      <td>C2</td>\n",
       "      <td>83.0</td>\n",
       "      <td>0</td>\n",
       "      <td>0</td>\n",
       "      <td>0</td>\n",
       "      <td>0</td>\n",
       "      <td>...</td>\n",
       "      <td>L</td>\n",
       "      <td>1</td>\n",
       "      <td>G</td>\n",
       "      <td>0</td>\n",
       "      <td>3</td>\n",
       "      <td>42</td>\n",
       "      <td>-63.399913</td>\n",
       "      <td>-7.473750</td>\n",
       "      <td>23.736714</td>\n",
       "      <td>-32.360969</td>\n",
       "    </tr>\n",
       "    <tr>\n",
       "      <th>1</th>\n",
       "      <td>IA</td>\n",
       "      <td>0</td>\n",
       "      <td>0</td>\n",
       "      <td>0</td>\n",
       "      <td>C3</td>\n",
       "      <td>0.0</td>\n",
       "      <td>U</td>\n",
       "      <td>0</td>\n",
       "      <td>0</td>\n",
       "      <td>0</td>\n",
       "      <td>...</td>\n",
       "      <td>L</td>\n",
       "      <td>3</td>\n",
       "      <td>F</td>\n",
       "      <td>0</td>\n",
       "      <td>5</td>\n",
       "      <td>15</td>\n",
       "      <td>14.092495</td>\n",
       "      <td>-1.498435</td>\n",
       "      <td>-12.520476</td>\n",
       "      <td>-3.206043</td>\n",
       "    </tr>\n",
       "    <tr>\n",
       "      <th>2</th>\n",
       "      <td>CA</td>\n",
       "      <td>0</td>\n",
       "      <td>0</td>\n",
       "      <td>0</td>\n",
       "      <td>R2</td>\n",
       "      <td>0.0</td>\n",
       "      <td>H</td>\n",
       "      <td>0</td>\n",
       "      <td>0</td>\n",
       "      <td>0</td>\n",
       "      <td>...</td>\n",
       "      <td>L</td>\n",
       "      <td>4</td>\n",
       "      <td>D</td>\n",
       "      <td>0</td>\n",
       "      <td>9</td>\n",
       "      <td>61</td>\n",
       "      <td>8.888279</td>\n",
       "      <td>5.513903</td>\n",
       "      <td>5.561129</td>\n",
       "      <td>5.242260</td>\n",
       "    </tr>\n",
       "    <tr>\n",
       "      <th>3</th>\n",
       "      <td>CA</td>\n",
       "      <td>0</td>\n",
       "      <td>4501</td>\n",
       "      <td>0</td>\n",
       "      <td>U1</td>\n",
       "      <td>53.0</td>\n",
       "      <td>H</td>\n",
       "      <td>0</td>\n",
       "      <td>0</td>\n",
       "      <td>0</td>\n",
       "      <td>...</td>\n",
       "      <td>L</td>\n",
       "      <td>1</td>\n",
       "      <td>F</td>\n",
       "      <td>1</td>\n",
       "      <td>9</td>\n",
       "      <td>47</td>\n",
       "      <td>2.333558</td>\n",
       "      <td>-1.310165</td>\n",
       "      <td>15.264777</td>\n",
       "      <td>-3.856945</td>\n",
       "    </tr>\n",
       "    <tr>\n",
       "      <th>4</th>\n",
       "      <td>CA</td>\n",
       "      <td>0</td>\n",
       "      <td>6201</td>\n",
       "      <td>0</td>\n",
       "      <td>C1</td>\n",
       "      <td>36.0</td>\n",
       "      <td>H</td>\n",
       "      <td>0</td>\n",
       "      <td>0</td>\n",
       "      <td>0</td>\n",
       "      <td>...</td>\n",
       "      <td>L</td>\n",
       "      <td>4</td>\n",
       "      <td>G</td>\n",
       "      <td>1</td>\n",
       "      <td>9</td>\n",
       "      <td>13</td>\n",
       "      <td>6.547728</td>\n",
       "      <td>-1.611965</td>\n",
       "      <td>7.629917</td>\n",
       "      <td>-5.392445</td>\n",
       "    </tr>\n",
       "  </tbody>\n",
       "</table>\n",
       "<p>5 rows × 319 columns</p>\n",
       "</div>"
      ],
      "text/plain": [
       "  STATE MAILCODE   DOB MDMAUD DOMAIN   AGE HOMEOWNR CHILD03 CHILD07 CHILD12  \\\n",
       "0    FL        0  1505      0     C2  83.0        0       0       0       0   \n",
       "1    IA        0     0      0     C3   0.0        U       0       0       0   \n",
       "2    CA        0     0      0     R2   0.0        H       0       0       0   \n",
       "3    CA        0  4501      0     U1  53.0        H       0       0       0   \n",
       "4    CA        0  6201      0     C1  36.0        H       0       0       0   \n",
       "\n",
       "     ...     RFA_2R  RFA_2F  RFA_2A TARGET_B  ZIP1  ZIP23       pca1  \\\n",
       "0    ...          L       1       G        0     3     42 -63.399913   \n",
       "1    ...          L       3       F        0     5     15  14.092495   \n",
       "2    ...          L       4       D        0     9     61   8.888279   \n",
       "3    ...          L       1       F        1     9     47   2.333558   \n",
       "4    ...          L       4       G        1     9     13   6.547728   \n",
       "\n",
       "       pca2       pca3       pca4  \n",
       "0 -7.473750  23.736714 -32.360969  \n",
       "1 -1.498435 -12.520476  -3.206043  \n",
       "2  5.513903   5.561129   5.242260  \n",
       "3 -1.310165  15.264777  -3.856945  \n",
       "4 -1.611965   7.629917  -5.392445  \n",
       "\n",
       "[5 rows x 319 columns]"
      ]
     },
     "execution_count": 93,
     "metadata": {},
     "output_type": "execute_result"
    }
   ],
   "source": [
    "newTrain.head()"
   ]
  },
  {
   "cell_type": "code",
   "execution_count": 94,
   "metadata": {
    "collapsed": true
   },
   "outputs": [],
   "source": [
    "target = newTrain['TARGET_B']"
   ]
  },
  {
   "cell_type": "code",
   "execution_count": 95,
   "metadata": {
    "collapsed": true
   },
   "outputs": [],
   "source": [
    "data = newTrain.drop('TARGET_B',axis = 1)"
   ]
  },
  {
   "cell_type": "code",
   "execution_count": 96,
   "metadata": {
    "collapsed": false
   },
   "outputs": [
    {
     "data": {
      "text/html": [
       "<div>\n",
       "<table border=\"1\" class=\"dataframe\">\n",
       "  <thead>\n",
       "    <tr style=\"text-align: right;\">\n",
       "      <th></th>\n",
       "      <th>STATE</th>\n",
       "      <th>MAILCODE</th>\n",
       "      <th>DOB</th>\n",
       "      <th>MDMAUD</th>\n",
       "      <th>DOMAIN</th>\n",
       "      <th>AGE</th>\n",
       "      <th>HOMEOWNR</th>\n",
       "      <th>CHILD03</th>\n",
       "      <th>CHILD07</th>\n",
       "      <th>CHILD12</th>\n",
       "      <th>...</th>\n",
       "      <th>TARGET_D</th>\n",
       "      <th>RFA_2R</th>\n",
       "      <th>RFA_2F</th>\n",
       "      <th>RFA_2A</th>\n",
       "      <th>ZIP1</th>\n",
       "      <th>ZIP23</th>\n",
       "      <th>pca1</th>\n",
       "      <th>pca2</th>\n",
       "      <th>pca3</th>\n",
       "      <th>pca4</th>\n",
       "    </tr>\n",
       "  </thead>\n",
       "  <tbody>\n",
       "    <tr>\n",
       "      <th>0</th>\n",
       "      <td>FL</td>\n",
       "      <td>0</td>\n",
       "      <td>1505</td>\n",
       "      <td>0</td>\n",
       "      <td>C2</td>\n",
       "      <td>83.0</td>\n",
       "      <td>0</td>\n",
       "      <td>0</td>\n",
       "      <td>0</td>\n",
       "      <td>0</td>\n",
       "      <td>...</td>\n",
       "      <td>0.0</td>\n",
       "      <td>L</td>\n",
       "      <td>1</td>\n",
       "      <td>G</td>\n",
       "      <td>3</td>\n",
       "      <td>42</td>\n",
       "      <td>-63.399913</td>\n",
       "      <td>-7.473750</td>\n",
       "      <td>23.736714</td>\n",
       "      <td>-32.360969</td>\n",
       "    </tr>\n",
       "    <tr>\n",
       "      <th>1</th>\n",
       "      <td>IA</td>\n",
       "      <td>0</td>\n",
       "      <td>0</td>\n",
       "      <td>0</td>\n",
       "      <td>C3</td>\n",
       "      <td>0.0</td>\n",
       "      <td>U</td>\n",
       "      <td>0</td>\n",
       "      <td>0</td>\n",
       "      <td>0</td>\n",
       "      <td>...</td>\n",
       "      <td>0.0</td>\n",
       "      <td>L</td>\n",
       "      <td>3</td>\n",
       "      <td>F</td>\n",
       "      <td>5</td>\n",
       "      <td>15</td>\n",
       "      <td>14.092495</td>\n",
       "      <td>-1.498435</td>\n",
       "      <td>-12.520476</td>\n",
       "      <td>-3.206043</td>\n",
       "    </tr>\n",
       "    <tr>\n",
       "      <th>2</th>\n",
       "      <td>CA</td>\n",
       "      <td>0</td>\n",
       "      <td>0</td>\n",
       "      <td>0</td>\n",
       "      <td>R2</td>\n",
       "      <td>0.0</td>\n",
       "      <td>H</td>\n",
       "      <td>0</td>\n",
       "      <td>0</td>\n",
       "      <td>0</td>\n",
       "      <td>...</td>\n",
       "      <td>0.0</td>\n",
       "      <td>L</td>\n",
       "      <td>4</td>\n",
       "      <td>D</td>\n",
       "      <td>9</td>\n",
       "      <td>61</td>\n",
       "      <td>8.888279</td>\n",
       "      <td>5.513903</td>\n",
       "      <td>5.561129</td>\n",
       "      <td>5.242260</td>\n",
       "    </tr>\n",
       "    <tr>\n",
       "      <th>3</th>\n",
       "      <td>CA</td>\n",
       "      <td>0</td>\n",
       "      <td>4501</td>\n",
       "      <td>0</td>\n",
       "      <td>U1</td>\n",
       "      <td>53.0</td>\n",
       "      <td>H</td>\n",
       "      <td>0</td>\n",
       "      <td>0</td>\n",
       "      <td>0</td>\n",
       "      <td>...</td>\n",
       "      <td>20.0</td>\n",
       "      <td>L</td>\n",
       "      <td>1</td>\n",
       "      <td>F</td>\n",
       "      <td>9</td>\n",
       "      <td>47</td>\n",
       "      <td>2.333558</td>\n",
       "      <td>-1.310165</td>\n",
       "      <td>15.264777</td>\n",
       "      <td>-3.856945</td>\n",
       "    </tr>\n",
       "    <tr>\n",
       "      <th>4</th>\n",
       "      <td>CA</td>\n",
       "      <td>0</td>\n",
       "      <td>6201</td>\n",
       "      <td>0</td>\n",
       "      <td>C1</td>\n",
       "      <td>36.0</td>\n",
       "      <td>H</td>\n",
       "      <td>0</td>\n",
       "      <td>0</td>\n",
       "      <td>0</td>\n",
       "      <td>...</td>\n",
       "      <td>11.0</td>\n",
       "      <td>L</td>\n",
       "      <td>4</td>\n",
       "      <td>G</td>\n",
       "      <td>9</td>\n",
       "      <td>13</td>\n",
       "      <td>6.547728</td>\n",
       "      <td>-1.611965</td>\n",
       "      <td>7.629917</td>\n",
       "      <td>-5.392445</td>\n",
       "    </tr>\n",
       "  </tbody>\n",
       "</table>\n",
       "<p>5 rows × 318 columns</p>\n",
       "</div>"
      ],
      "text/plain": [
       "  STATE MAILCODE   DOB MDMAUD DOMAIN   AGE HOMEOWNR CHILD03 CHILD07 CHILD12  \\\n",
       "0    FL        0  1505      0     C2  83.0        0       0       0       0   \n",
       "1    IA        0     0      0     C3   0.0        U       0       0       0   \n",
       "2    CA        0     0      0     R2   0.0        H       0       0       0   \n",
       "3    CA        0  4501      0     U1  53.0        H       0       0       0   \n",
       "4    CA        0  6201      0     C1  36.0        H       0       0       0   \n",
       "\n",
       "     ...     TARGET_D  RFA_2R  RFA_2F RFA_2A  ZIP1  ZIP23       pca1  \\\n",
       "0    ...          0.0       L       1      G     3     42 -63.399913   \n",
       "1    ...          0.0       L       3      F     5     15  14.092495   \n",
       "2    ...          0.0       L       4      D     9     61   8.888279   \n",
       "3    ...         20.0       L       1      F     9     47   2.333558   \n",
       "4    ...         11.0       L       4      G     9     13   6.547728   \n",
       "\n",
       "       pca2       pca3       pca4  \n",
       "0 -7.473750  23.736714 -32.360969  \n",
       "1 -1.498435 -12.520476  -3.206043  \n",
       "2  5.513903   5.561129   5.242260  \n",
       "3 -1.310165  15.264777  -3.856945  \n",
       "4 -1.611965   7.629917  -5.392445  \n",
       "\n",
       "[5 rows x 318 columns]"
      ]
     },
     "execution_count": 96,
     "metadata": {},
     "output_type": "execute_result"
    }
   ],
   "source": [
    "data.head()"
   ]
  },
  {
   "cell_type": "code",
   "execution_count": 97,
   "metadata": {
    "collapsed": false
   },
   "outputs": [
    {
     "data": {
      "text/plain": [
       "0    0\n",
       "1    0\n",
       "2    0\n",
       "3    1\n",
       "4    1\n",
       "Name: TARGET_B, dtype: int64"
      ]
     },
     "execution_count": 97,
     "metadata": {},
     "output_type": "execute_result"
    }
   ],
   "source": [
    "target.head()"
   ]
  },
  {
   "cell_type": "code",
   "execution_count": 98,
   "metadata": {
    "collapsed": true
   },
   "outputs": [],
   "source": [
    "from sklearn.cross_validation import train_test_split\n",
    "X_train, X_test, y_train, y_test = train_test_split(data,target,test_size = 0.4, random_state = 4)"
   ]
  },
  {
   "cell_type": "code",
   "execution_count": 99,
   "metadata": {
    "collapsed": false
   },
   "outputs": [
    {
     "name": "stdout",
     "output_type": "stream",
     "text": [
      "(9999, 318)\n",
      "(9999,)\n",
      "(5999, 318)\n",
      "(5999,)\n"
     ]
    }
   ],
   "source": [
    "print (data.shape)\n",
    "print(target.shape)\n",
    "print (X_train.shape)\n",
    "print (y_train.shape)"
   ]
  },
  {
   "cell_type": "code",
   "execution_count": 100,
   "metadata": {
    "collapsed": true
   },
   "outputs": [],
   "source": [
    "from sklearn.naive_bayes import GaussianNB\n",
    "gnb = GaussianNB()"
   ]
  },
  {
   "cell_type": "code",
   "execution_count": 102,
   "metadata": {
    "collapsed": false
   },
   "outputs": [
    {
     "data": {
      "text/plain": [
       "STATE        object\n",
       "MAILCODE     object\n",
       "DOB           int64\n",
       "MDMAUD       object\n",
       "DOMAIN       object\n",
       "AGE         float64\n",
       "HOMEOWNR     object\n",
       "CHILD03      object\n",
       "CHILD07      object\n",
       "CHILD12      object\n",
       "CHILD18      object\n",
       "NUMCHLD     float64\n",
       "INCOME      float64\n",
       "GENDER       object\n",
       "WEALTH1     float64\n",
       "MBCRAFT     float64\n",
       "MBGARDEN    float64\n",
       "MBBOOKS     float64\n",
       "MBCOLECT    float64\n",
       "MAGFAML     float64\n",
       "MAGFEM      float64\n",
       "MAGMALE     float64\n",
       "PUBGARDN    float64\n",
       "PUBCULIN    float64\n",
       "PUBHLTH     float64\n",
       "PUBDOITY    float64\n",
       "PUBNEWFN    float64\n",
       "PUBPHOTO    float64\n",
       "PUBOPP      float64\n",
       "MALEMILI      int64\n",
       "             ...   \n",
       "RAMNT_8     float64\n",
       "RAMNT_9     float64\n",
       "RAMNT_10    float64\n",
       "RAMNT_11    float64\n",
       "RAMNT_12    float64\n",
       "RAMNT_13    float64\n",
       "RAMNT_14    float64\n",
       "RAMNT_15    float64\n",
       "RAMNT_16    float64\n",
       "RAMNT_17    float64\n",
       "RAMNT_18    float64\n",
       "RAMNT_19    float64\n",
       "RAMNT_20    float64\n",
       "RAMNT_21    float64\n",
       "RAMNT_22    float64\n",
       "RAMNT_23    float64\n",
       "RAMNT_24    float64\n",
       "RAMNTALL    float64\n",
       "MAXRAMNT    float64\n",
       "AVGGIFT     float64\n",
       "TARGET_D    float64\n",
       "RFA_2R       object\n",
       "RFA_2F        int64\n",
       "RFA_2A       object\n",
       "ZIP1          int64\n",
       "ZIP23         int64\n",
       "pca1        float64\n",
       "pca2        float64\n",
       "pca3        float64\n",
       "pca4        float64\n",
       "dtype: object"
      ]
     },
     "execution_count": 102,
     "metadata": {},
     "output_type": "execute_result"
    }
   ],
   "source": [
    "X_train.dtypes"
   ]
  },
  {
   "cell_type": "code",
   "execution_count": null,
   "metadata": {
    "collapsed": true
   },
   "outputs": [],
   "source": []
  }
 ],
 "metadata": {
  "kernelspec": {
   "display_name": "Python 3",
   "language": "python",
   "name": "python3"
  },
  "language_info": {
   "codemirror_mode": {
    "name": "ipython",
    "version": 3
   },
   "file_extension": ".py",
   "mimetype": "text/x-python",
   "name": "python",
   "nbconvert_exporter": "python",
   "pygments_lexer": "ipython3",
   "version": "3.5.2"
  }
 },
 "nbformat": 4,
 "nbformat_minor": 0
}
